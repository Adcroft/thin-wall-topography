{
 "cells": [
  {
   "cell_type": "markdown",
   "metadata": {},
   "source": [
    "*Defines a class for containing the thin wall topographic data and grid data*"
   ]
  },
  {
   "cell_type": "code",
   "execution_count": 9,
   "metadata": {
    "collapsed": true
   },
   "outputs": [],
   "source": [
    "import numpy"
   ]
  },
  {
   "cell_type": "code",
   "execution_count": 119,
   "metadata": {
    "collapsed": false
   },
   "outputs": [
    {
     "name": "stdout",
     "output_type": "stream",
     "text": [
      "0.5 0.5\n",
      "0.5 0.5\n",
      "0.5 0.5\n",
      "0.5 0.5\n",
      "90.0 90.0\n",
      "90.0 90.0\n",
      "4.0 4.0\n",
      "4.0 4.0\n",
      "0.000387870637108 4.0 1\n",
      "0.000387848484977 4.0 2\n",
      "0.000387842283732 4.0 5\n",
      "0.000387841220132 4.0 20\n",
      "0.000387843909749 4.0 200\n",
      "0.000387796099978 4.0 2k\n",
      "0.000387084130943 4.0 5k\n"
     ]
    }
   ],
   "source": [
    "class Mesh:\n",
    "    \"\"\"Describes 2D meshes.\n",
    "    \n",
    "    Meshes have shape=(nj,ni) cells with (nj+1,ni+1) vertices with coordinates (x,y).\n",
    "    \n",
    "    When constructing, either provide 1d or 2d coordinates (x,y), or assume a\n",
    "    uniform spherical grid with 'shape' cells covering the whole sphere with\n",
    "    longitudes starting at x0.\n",
    "\n",
    "    shape - (nj,ni)\n",
    "    ni    - number of cells in x-direction (last)\n",
    "    nj    - number of cells in y-direction (first)\n",
    "    x     - longitude of mesh (cell corners) (2d)\n",
    "    y     - latitude of mesh (cell corners) (2d)\n",
    "    area  - area of cells (2d)\n",
    "    x0    - used when generating a spherical grid in absence of (x,y)\n",
    "    \"\"\"\n",
    "    def __init__(self, shape=None, x=None, y=None, area=None, x0=-180.):\n",
    "        if (shape is None) and (x is None) and (y is None): raise Exception('Either shape must be specified or both x and y')\n",
    "        if (x is None) and (y is not None): raise Exception('Either shape must be specified or both x and y')\n",
    "        if (x is not None) and (y is None): raise Exception('Either shape must be specified or both x and y')\n",
    "        # Determine shape\n",
    "        if shape is not None:\n",
    "            (nj,ni) = shape\n",
    "        else: # Determine shape from x and y\n",
    "            if (x is None) or (y is None): raise Exception('Either shape must be specified or both x and y')\n",
    "            if len(x.shape)==1: ni = x.shape[0]-1\n",
    "            elif len(x.shape)==2: ni = x.shape[1]-1\n",
    "            else: raise Exception('x must be 1D or 2D.')\n",
    "            if len(y.shape)==1 or len(y.shape)==2: nj = y.shape[0]-1\n",
    "            else: raise Exception('y must be 1D or 2D.')\n",
    "        self.ni = ni\n",
    "        self.nj = nj\n",
    "        self.shape = (nj,ni)\n",
    "        # Check shape of arrays and construct 2d coordinates\n",
    "        if x is not None and y is not None:\n",
    "            if len(x.shape)==1:\n",
    "                if len(y.shape)>1: raise Exception('x and y must either be both 1d or both 2d')\n",
    "                if x.shape[0] != ni+1: raise Exception('x has the wrong length')\n",
    "            if len(y.shape)==1:\n",
    "                if len(x.shape)>1: raise Exception('x and y must either be both 1d or both 2d')\n",
    "                if y.shape[0] != nj+1: raise Exception('y has the wrong length')\n",
    "            if len(x.shape)==2 and len(y.shape)==2:\n",
    "                if x.shape != y.shape: raise Exception('x and y are 2d and must be the same size')\n",
    "                if x.shape != (nj+1,ni+1): raise Exception('x has the wrong size')\n",
    "                self.x = x\n",
    "                self.y = y\n",
    "            else:\n",
    "                self.x, self.y = numpy.meshgrid(x,y)\n",
    "        else: # Construct coordinates\n",
    "            y1d = numpy.linspace(-90.,90.,nj+1)\n",
    "            x1d = numpy.linspace(x0,x0+360.,ni+1)\n",
    "            self.x, self.y = numpy.meshgrid(x1d,y1d)\n",
    "        if area is not None:\n",
    "            if area.shape != (nj,ni): raise Exception('area has the wrong shape or size')\n",
    "            self.area = area\n",
    "    def rhumb_length(p1,p2):\n",
    "        \"\"\"Distance between two points, p1 and p2, following a constant bearing.\n",
    "        Positions are given as (latitude,longitude) tuples measured in degrees.\"\"\"\n",
    "        deg2rad = numpy.pi/180.\n",
    "        phi1 = deg2rad * p1[0]\n",
    "        phi2 = deg2rad * p2[0]\n",
    "        dphi = phi2 - phi1\n",
    "        dlambda2 = ( deg2rad * ( p2[1] - p1[1] ) )**2\n",
    "        dpsi = numpy.log( numpy.tan( 0.25 * numpy.pi + 0.5*phi2 ) / numpy.tan( 0.25*numpy.pi + 0.5*phi1 ) )\n",
    "        if numpy.abs(dphi)==0: q2 = numpy.cos( 0.5*( phi1 + phi2 ) )**2\n",
    "        else: q2 = ( dphi / dpsi )**2\n",
    "        return numpy.sqrt( dphi**2 + q2 * dlambda2 )\n",
    "    def angle_p1p2(p1,p2):\n",
    "        \"\"\"Angle at center of sphere between two points on the surface of the sphere.\n",
    "        Positions are given as (latitude,longitude) tuples measured in degrees.\"\"\"\n",
    "        deg2rad = numpy.pi/180.\n",
    "        phi1 = deg2rad * p1[0]\n",
    "        phi2 = deg2rad * p2[0]\n",
    "        dphi_2 = 0.5 * ( phi2 - phi1 )\n",
    "        dlambda_2 = 0.5 * deg2rad * ( p2[1] - p1[1] )\n",
    "        a = numpy.sin( dphi_2 )**2 + numpy.cos( phi1 ) * numpy.cos( phi2 ) * ( numpy.sin( dlambda_2 )**2 )\n",
    "        c = 2. * numpy.arctan2( numpy.sqrt(a), numpy.sqrt( 1. - a ) )\n",
    "        return c\n",
    "    def great_arc_length(p1,p2,R=1.):\n",
    "        \"\"\"Shortest distance between two points, p1 and p2.\n",
    "        Positions are given as (latitude,longitude) tuples measured in degrees.\"\"\"\n",
    "        return R*Mesh.angle_p1p2(p1,p2)\n",
    "    def angle_triangle(pA,pB,pC):\n",
    "        \"\"\"Angle ABC (angle between AC at B)\n",
    "        Positions are given as (latitude,longitude) tuples measured in degrees.\"\"\"\n",
    "        deg2rad = numpy.pi/180.\n",
    "        a = Mesh.angle_p1p2(pA,pB)\n",
    "        b = Mesh.angle_p1p2(pB,pC)\n",
    "        c = Mesh.angle_p1p2(pC,pA)\n",
    "        cos_c = numpy.cos(c)\n",
    "        cos_b = numpy.cos(b)\n",
    "        sin_b = numpy.sin(b)\n",
    "        cos_a = numpy.cos(a)\n",
    "        sin_a = numpy.sin(a)\n",
    "        return numpy.arccos( ( cos_c - cos_b*cos_a) / (sin_a * sin_b) )\n",
    "    def area_spherical_triangle(p1,p2,p3):\n",
    "        \"\"\"Area of a spherical triangle defined by great arcs between three positions on\n",
    "        the surface of a sphere.\n",
    "        Positions are given as (latitude,longitude) tuples measured in degrees.\"\"\"\n",
    "        A = Mesh.angle_triangle(p1,p2,p3)\n",
    "        B = Mesh.angle_triangle(p2,p3,p1)\n",
    "        C = Mesh.angle_triangle(p3,p1,p2)\n",
    "        return (A+B+C-numpy.pi)\n",
    "    def area_ggr_triangle(pA,pB,pC, n=5):\n",
    "        \"\"\"Area of a triangle ABC where AB and BC are great arcs and AC is a rhumb\n",
    "        line (or straight line in geographic coordinates).\n",
    "        Positions are given as (latitude,longitude) tuples measured in degrees.\"\"\"\n",
    "        area = 0.*pB[0]\n",
    "        for j in range(n):\n",
    "            sL = float(j)/float(n)\n",
    "            pL = ((1.-sL)*pA[0] + sL*pC[0], (1.-sL)*pA[1] + sL*pC[1])\n",
    "            sR = float(j+1)/float(n)\n",
    "            pR = ((1.-sR)*pA[0] + sR*pC[0], (1.-sR)*pA[1] + sR*pC[1])\n",
    "            area += Mesh.area_spherical_triangle(pR,pB,pL)\n",
    "        return area\n",
    "    def __area_grid_cell__(p1,p2,p3,p4):\n",
    "        pass\n",
    "\n",
    "M = Mesh(shape=(5,3))\n",
    "print( Mesh.rhumb_length((0,0),(90,0))/numpy.pi, 0.5)\n",
    "print( Mesh.rhumb_length((0,0),(0,90))/numpy.pi, 0.5)\n",
    "print( Mesh.great_arc_length((0,0),(90,0))/numpy.pi, 0.5)\n",
    "print( Mesh.great_arc_length((0,0),(0,90))/numpy.pi, 0.5)\n",
    "print( Mesh.angle_p1p2((0,0),(90,0))/numpy.pi*180., 90.)\n",
    "print( Mesh.angle_triangle( (1,0), (0,0), (0,90) )/numpy.pi*180., 90.)\n",
    "print( Mesh.area_spherical_triangle( (0,0), (90,0), (0,90) )/numpy.pi*8, 4.)\n",
    "print( Mesh.area_ggr_triangle( (0,0), (90,0), (0,90), n=2 )/numpy.pi*8, 4. )\n",
    "print( Mesh.area_ggr_triangle( (1,0), (0,0), (0,1), n=1 )/numpy.pi*8, 4., 1)\n",
    "print( Mesh.area_ggr_triangle( (1,0), (0,0), (0,1), n=2 )/numpy.pi*8, 4., 2)\n",
    "print( Mesh.area_ggr_triangle( (1,0), (0,0), (0,1), n=5 )/numpy.pi*8, 4., 5)\n",
    "print( Mesh.area_ggr_triangle( (1,0), (0,0), (0,1), n=20 )/numpy.pi*8, 4., 20)\n",
    "print( Mesh.area_ggr_triangle( (1,0), (0,0), (0,1), n=200 )/numpy.pi*8, 4., 200)\n",
    "print( Mesh.area_ggr_triangle( (1,0), (0,0), (0,1), n=2000 )/numpy.pi*8, 4., '2k')\n",
    "print( Mesh.area_ggr_triangle( (1,0), (0,0), (0,1), n=5000 )/numpy.pi*8, 4., '5k')\n",
    "#print( Mesh.area_spherical_triangle( (45,0), (0,0), (45,45) )/numpy.pi*8 )\n",
    "#print( Mesh.area_rhumb_triangle( (45,0), (0,0), (45,45) )/numpy.pi*8 )"
   ]
  },
  {
   "cell_type": "code",
   "execution_count": null,
   "metadata": {
    "collapsed": true
   },
   "outputs": [],
   "source": [
    "class ThinWall(Mesh):\n",
    "    \"\"\"Container for thin wall topographic data and mesh/grid data\n",
    "\n",
    "    zc_mean - mean elevation of cell (2d)\n",
    "    zu_mean - mean elevation of western edge of cell (2d)\n",
    "    zv_mean - mean elevation of southern edge of cell (2d)\n",
    "    \"\"\"\n",
    "    def __init__(self, shape):\n",
    "        self.shape = shape\n",
    "        self.ni = shape[1]\n",
    "        self.nj = shape[0]\n",
    "        self.x = x\n",
    "        self.y = y\n",
    "        self.area = area\n",
    "        "
   ]
  },
  {
   "cell_type": "code",
   "execution_count": 130,
   "metadata": {
    "collapsed": false
   },
   "outputs": [
    {
     "data": {
      "text/plain": [
       "9.9744795523640573"
      ]
     },
     "execution_count": 130,
     "metadata": {},
     "output_type": "execute_result"
    }
   ],
   "source": [
    "Mesh.angle_p1p2((0,0),(10,10))/numpy.pi*90*numpy.sqrt(2)"
   ]
  },
  {
   "cell_type": "code",
   "execution_count": null,
   "metadata": {
    "collapsed": true
   },
   "outputs": [],
   "source": []
  }
 ],
 "metadata": {
  "kernelspec": {
   "display_name": "Python 3",
   "language": "python",
   "name": "python3"
  },
  "language_info": {
   "codemirror_mode": {
    "name": "ipython",
    "version": 3
   },
   "file_extension": ".py",
   "mimetype": "text/x-python",
   "name": "python",
   "nbconvert_exporter": "python",
   "pygments_lexer": "ipython3",
   "version": "3.4.3"
  }
 },
 "nbformat": 4,
 "nbformat_minor": 0
}
