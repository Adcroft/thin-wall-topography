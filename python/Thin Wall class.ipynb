{
 "cells": [
  {
   "cell_type": "markdown",
   "metadata": {},
   "source": [
    "*Defines a class for containing the thin wall topographic data and grid data*"
   ]
  },
  {
   "cell_type": "code",
   "execution_count": 41,
   "metadata": {
    "collapsed": true
   },
   "outputs": [],
   "source": [
    "import numpy"
   ]
  },
  {
   "cell_type": "code",
   "execution_count": 64,
   "metadata": {
    "collapsed": false
   },
   "outputs": [
    {
     "name": "stdout",
     "output_type": "stream",
     "text": [
      "50.0 90.0\n",
      "[-0.35770727  3.18545051]\n",
      "dphi= 80.0\n",
      "dlambda= 0.0\n",
      "45.0137077838904\n",
      "5.0137077838904025\n",
      "-0.153276036327\n",
      "5.15981786698\n",
      "nan\n"
     ]
    },
    {
     "name": "stderr",
     "output_type": "stream",
     "text": [
      "C:\\Users\\User\\Anaconda3\\envs\\mypy3.4\\lib\\site-packages\\IPython\\kernel\\__main__.py:75: RuntimeWarning: invalid value encountered in log\n",
      "C:\\Users\\User\\Anaconda3\\envs\\mypy3.4\\lib\\site-packages\\IPython\\kernel\\__main__.py:78: RuntimeWarning: invalid value encountered in double_scalars\n"
     ]
    },
    {
     "data": {
      "text/plain": [
       "nan"
      ]
     },
     "execution_count": 64,
     "metadata": {},
     "output_type": "execute_result"
    }
   ],
   "source": [
    "class Mesh:\n",
    "    \"\"\"Describes 2D meshes.\n",
    "    \n",
    "    Meshes have shape=(nj,ni) cells with (nj+1,ni+1) vertices with coordinates (x,y).\n",
    "    \n",
    "    When constructing, either provide 1d or 2d coordinates (x,y), or assume a\n",
    "    uniform spherical grid with 'shape' cells covering the whole sphere with\n",
    "    longitudes starting at x0.\n",
    "\n",
    "    shape - (nj,ni)\n",
    "    ni    - number of cells in x-direction (last)\n",
    "    nj    - number of cells in y-direction (first)\n",
    "    x     - longitude of mesh (cell corners) (2d)\n",
    "    y     - latitude of mesh (cell corners) (2d)\n",
    "    area  - area of cells (2d)\n",
    "    x0    - used when generating a spherical grid in absence of (x,y)\n",
    "    \"\"\"\n",
    "    def __init__(self, shape=None, x=None, y=None, area=None, x0=-180.):\n",
    "        if (shape is None) and (x is None) and (y is None): raise Exception('Either shape must be specified or both x and y')\n",
    "        if (x is None) and (y is not None): raise Exception('Either shape must be specified or both x and y')\n",
    "        if (x is not None) and (y is None): raise Exception('Either shape must be specified or both x and y')\n",
    "        # Determine shape\n",
    "        if shape is not None:\n",
    "            (nj,ni) = shape\n",
    "        else: # Determine shape from x and y\n",
    "            if (x is None) or (y is None): raise Exception('Either shape must be specified or both x and y')\n",
    "            if len(x.shape)==1: ni = x.shape[0]-1\n",
    "            elif len(x.shape)==2: ni = x.shape[1]-1\n",
    "            else: raise Exception('x must be 1D or 2D.')\n",
    "            if len(y.shape)==1 or len(y.shape)==2: nj = y.shape[0]-1\n",
    "            else: raise Exception('y must be 1D or 2D.')\n",
    "        self.ni = ni\n",
    "        self.nj = nj\n",
    "        self.shape = (nj,ni)\n",
    "        # Check shape of arrays and construct 2d coordinates\n",
    "        if x is not None and y is not None:\n",
    "            if len(x.shape)==1:\n",
    "                if len(y.shape)>1: raise Exception('x and y must either be both 1d or both 2d')\n",
    "                if x.shape[0] != ni+1: raise Exception('x has the wrong length')\n",
    "            if len(y.shape)==1:\n",
    "                if len(x.shape)>1: raise Exception('x and y must either be both 1d or both 2d')\n",
    "                if y.shape[0] != nj+1: raise Exception('y has the wrong length')\n",
    "            if len(x.shape)==2 and len(y.shape)==2:\n",
    "                if x.shape != y.shape: raise Exception('x and y are 2d and must be the same size')\n",
    "                if x.shape != (nj+1,ni+1): raise Exception('x has the wrong size')\n",
    "                self.x = x\n",
    "                self.y = y\n",
    "            else:\n",
    "                self.x, self.y = numpy.meshgrid(x,y)\n",
    "        else: # Construct coordinates\n",
    "            y1d = numpy.linspace(-90.,90.,nj+1)\n",
    "            x1d = numpy.linspace(x0,x0+360.,ni+1)\n",
    "            self.x, self.y = numpy.meshgrid(x1d,y1d)\n",
    "        if area is not None:\n",
    "            if area.shape != (nj,ni): raise Exception('area has the wrong shape or size')\n",
    "            self.area = area\n",
    "    def rhumb_length(p1,p2):\n",
    "        \"\"\"Distance between two poitns, p1 and p2, following a constant bearing. Positions are given as\n",
    "        (latitude,longitude) tuples measures in degrees.\"\"\"\n",
    "        deg2rad = 180./numpy.pi\n",
    "        phi1 = deg2rad * p1[0]\n",
    "        phi2 = deg2rad * p2[0]\n",
    "        f1 = (45. + 0.5 * p1[0]) * deg2rad\n",
    "        f2 = (45. + 0.5 * p2[0]) * deg2rad\n",
    "        print(f1/deg2rad,f2/deg2rad)\n",
    "        print( numpy.tan([f1,f2]))\n",
    "        dphi = phi2 - phi1\n",
    "        print( 'dphi=',dphi/deg2rad)\n",
    "        dlambda2 = ( deg2rad*(p2[1] - p1[1]) )**2\n",
    "        print( 'dlambda=', numpy.sqrt( dlambda2 )/deg2rad )\n",
    "        print( (0.25*numpy.pi + 0.5*phi2)/deg2rad )\n",
    "        print( (0.25*numpy.pi + 0.5*phi1)/deg2rad )\n",
    "        print( numpy.tan( 0.25*numpy.pi + 0.5*phi2 ) )\n",
    "        print( numpy.tan( 0.25*numpy.pi + 0.5*phi1 ) )\n",
    "        dpsi = numpy.log( numpy.tan( 0.25*numpy.pi + 0.5*phi2 ) / numpy.tan( 0.25*numpy.pi + 0.5*phi1 ) )\n",
    "        print( dpsi/deg2rad )\n",
    "        if numpy.abs(dphi)==0: q2 = numpy.cos( 0.5*( phi1 + phi2 ) )**2\n",
    "        else: q2 = ( dphi / dpsi )**2\n",
    "        return numpy.sqrt( dphi**2 + q2 * dlambda2)\n",
    "M = Mesh(shape=(5,3))\n",
    "M.x,M.y\n",
    "Mesh.rhumb_length((10,0),(90,0))"
   ]
  },
  {
   "cell_type": "code",
   "execution_count": null,
   "metadata": {
    "collapsed": true
   },
   "outputs": [],
   "source": [
    "class ThinWall(Mesh):\n",
    "    \"\"\"Container for thin wall topographic data and mesh/grid data\n",
    "\n",
    "    zc_mean - mean elevation of cell (2d)\n",
    "    zu_mean - mean elevation of western edge of cell (2d)\n",
    "    zv_mean - mean elevation of southern edge of cell (2d)\n",
    "    \"\"\"\n",
    "    def __init__(self, shape):\n",
    "        self.shape = shape\n",
    "        self.ni = shape[1]\n",
    "        self.nj = shape[0]\n",
    "        self.x = x\n",
    "        self.y = y\n",
    "        self.area = area\n",
    "        "
   ]
  },
  {
   "cell_type": "code",
   "execution_count": 40,
   "metadata": {
    "collapsed": false
   },
   "outputs": [
    {
     "data": {
      "text/plain": [
       "3.141592653589793"
      ]
     },
     "execution_count": 40,
     "metadata": {},
     "output_type": "execute_result"
    }
   ],
   "source": [
    "numpy.pi"
   ]
  },
  {
   "cell_type": "code",
   "execution_count": null,
   "metadata": {
    "collapsed": true
   },
   "outputs": [],
   "source": []
  }
 ],
 "metadata": {
  "kernelspec": {
   "display_name": "Python 3",
   "language": "python",
   "name": "python3"
  },
  "language_info": {
   "codemirror_mode": {
    "name": "ipython",
    "version": 3
   },
   "file_extension": ".py",
   "mimetype": "text/x-python",
   "name": "python",
   "nbconvert_exporter": "python",
   "pygments_lexer": "ipython3",
   "version": "3.4.3"
  }
 },
 "nbformat": 4,
 "nbformat_minor": 0
}
