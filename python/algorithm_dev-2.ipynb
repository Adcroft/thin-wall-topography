{
 "cells": [
  {
   "cell_type": "markdown",
   "metadata": {
    "colab_type": "text",
    "id": "view-in-github"
   },
   "source": [
    "<a href=\"https://colab.research.google.com/github/nikizadehgfdl/thin-wall-topography/blob/colab/python/algorithm_dev.ipynb\" target=\"_parent\"><img src=\"https://colab.research.google.com/assets/colab-badge.svg\" alt=\"Open In Colab\"/></a>"
   ]
  },
  {
   "cell_type": "markdown",
   "metadata": {
    "colab_type": "text",
    "id": "FzPFwAc4aE5Q"
   },
   "source": [
    "## This notebook is for developement and testing of algorithm for the thin wall topography"
   ]
  },
  {
   "cell_type": "markdown",
   "metadata": {
    "colab_type": "text",
    "id": "qIoiwPqlaq8-"
   },
   "source": [
    "## Fine grid generation and interpolation"
   ]
  },
  {
   "cell_type": "markdown",
   "metadata": {
    "colab_type": "text",
    "id": "t2hXBafqjSYN"
   },
   "source": [
    "### Create test grids"
   ]
  },
  {
   "cell_type": "markdown",
   "metadata": {
    "colab_type": "text",
    "id": "B-VxoaXWamLv"
   },
   "source": [
    "Some helper functions"
   ]
  },
  {
   "cell_type": "code",
   "execution_count": 243,
   "metadata": {
    "collapsed": true
   },
   "outputs": [],
   "source": [
    "import numpy as np\n",
    "import matplotlib.pyplot as plt\n",
    "%matplotlib inline\n",
    "\n",
    "#Helper functions\n",
    "\n",
    "def plot_mesh_in_latlon(lam, phi, stride=1, phi_color='k', lam_color='r',alpha=1.0):\n",
    "    #mesh plot\n",
    "    if (phi.shape != lam.shape): raise Exception('Ooops: lam and phi should have same shape')\n",
    "    nj,ni = lam.shape\n",
    "    for i in range(0,ni,stride):\n",
    "        plt.plot(lam[:,i],phi[:,i],lam_color, alpha=alpha)\n",
    "    for j in range(0,nj,stride):\n",
    "        plt.plot(lam[j,:],phi[j,:],phi_color, alpha=alpha)\n",
    "\n",
    "def generate_rect_test_grid(lons,lone,ni,lats,late,nj):\n",
    "    #generate a simple rectilinear grid\n",
    "    lon = lons + np.arange(ni+1) * (lone-lons)/ni\n",
    "    lat = lats + np.arange(nj+1) * (late-lats)/nj\n",
    "    lon_grid = np.tile(lon, (nj+1,1)) \n",
    "    lat_grid = np.tile(lat.reshape(nj+1,1), (1,ni+1))\n",
    "    return lon_grid,lat_grid"
   ]
  },
  {
   "cell_type": "markdown",
   "metadata": {
    "colab_type": "text",
    "id": "tdRzWKGqa4Ng"
   },
   "source": [
    "Actual source data like GEBCO (below) are too large for devloping/tesing. Here we use simple small recitilinear grids to sart"
   ]
  },
  {
   "cell_type": "code",
   "execution_count": 159,
   "metadata": {
    "colab": {
     "base_uri": "https://localhost:8080/",
     "height": 265
    },
    "colab_type": "code",
    "id": "11dB9aoWTfTK",
    "outputId": "bda995ce-30d9-4b65-f07f-19c582272f88",
    "scrolled": true
   },
   "outputs": [
    {
     "data": {
      "image/png": "[encoded data removed]",
      "text/plain": [
       "<matplotlib.figure.Figure at 0x2af1da99ca58>"
      ]
     },
     "metadata": {},
     "output_type": "display_data"
    }
   ],
   "source": [
    "#Let's start with some small rectilinear grids for testing\n",
    "#source grid \n",
    "src_lon_grid,src_lat_grid = generate_rect_test_grid(lons=3,lone=8,ni=5,lats=-1.5,late=2.5,nj=9)\n",
    "#target grid\n",
    "trg_lon_grid,trg_lat_grid = generate_rect_test_grid(3.4,7.6,2,-1.28,2.4,2)\n",
    "plot_mesh_in_latlon(src_lon_grid, src_lat_grid, phi_color='bo', lam_color='bo',alpha=0.4)\n",
    "plot_mesh_in_latlon(trg_lon_grid, trg_lat_grid, phi_color='r*', lam_color='r*')"
   ]
  },
  {
   "cell_type": "markdown",
   "metadata": {},
   "source": [
    "### GridMesh Class"
   ]
  },
  {
   "cell_type": "code",
   "execution_count": 245,
   "metadata": {},
   "outputs": [],
   "source": [
    "import numpy as np\n",
    "\n",
    "def is_source_uniform(xs,ys):\n",
    "    \"\"\"Returns True if the input grid is uniform and False otherwise\"\"\"\n",
    "    delx = np.roll(xs,shift=-1, axis=1) - xs \n",
    "    delx = delx[:,:-1]\n",
    "    dely = np.roll(ys,shift=-1, axis=0) - ys \n",
    "    dely = dely[:-1,:]\n",
    "    return (np.all(np.isclose(delx, delx[0,0]))) and (np.all(np.isclose(dely, dely[0,0])))\n",
    "\n",
    "\n",
    "class GMesh:\n",
    "    \"\"\"Describes 2D meshes for ESMs.\n",
    "    \n",
    "    Meshes have shape=(nj,ni) cells with (nj+1,ni+1) vertices with coordinates (x,y).\n",
    "    \n",
    "    When constructing, either provide 1d or 2d coordinates (x,y), or assume a\n",
    "    uniform spherical grid with 'shape' cells covering the whole sphere with\n",
    "    longitudes starting at x0.\n",
    "    \n",
    "    Attributes:\n",
    "    \n",
    "    shape - (nj,ni)\n",
    "    ni    - number of cells in x-direction (last)\n",
    "    nj    - number of cells in y-direction (first)\n",
    "    x     - longitude of mesh (cell corners), shape (nj+1,ni=1)\n",
    "    y     - latitude of mesh (cell corners), shape (nj+1,ni=1)\n",
    "    area  - area of cells, shape (nj,ni)\n",
    "    \"\"\"\n",
    "\n",
    "    def __init__(self, shape=None, x=None, y=None, area=None, x0=-180.):\n",
    "        \"\"\"Constructor for Mesh:\n",
    "        shape - shape of cell array, (nj,ni)\n",
    "        ni    - number of cells in x-direction (last index)\n",
    "        nj    - number of cells in y-direction (first index)\n",
    "        x     - longitude of mesh (cell corners) (1d or 2d)\n",
    "        y     - latitude of mesh (cell corners) (1d or 2d)\n",
    "        area  - area of cells (2d)\n",
    "        x0    - used when generating a spherical grid in absence of (x,y)\n",
    "        \"\"\"\n",
    "        if (shape is None) and (x is None) and (y is None): raise Exception('Either shape must be specified or both x and y')\n",
    "        if (x is None) and (y is not None): raise Exception('Either shape must be specified or both x and y')\n",
    "        if (x is not None) and (y is None): raise Exception('Either shape must be specified or both x and y')\n",
    "        # Determine shape\n",
    "        if shape is not None:\n",
    "            (nj,ni) = shape\n",
    "        else: # Determine shape from x and y\n",
    "            if (x is None) or (y is None): raise Exception('Either shape must be specified or both x and y')\n",
    "            if len(x.shape)==1: ni = x.shape[0]-1\n",
    "            elif len(x.shape)==2: ni = x.shape[1]-1\n",
    "            else: raise Exception('x must be 1D or 2D.')\n",
    "            if len(y.shape)==1 or len(y.shape)==2: nj = y.shape[0]-1\n",
    "            else: raise Exception('y must be 1D or 2D.')\n",
    "        self.ni = ni\n",
    "        self.nj = nj\n",
    "        self.shape = (nj,ni)\n",
    "        # Check shape of arrays and construct 2d coordinates\n",
    "        if x is not None and y is not None:\n",
    "            if len(x.shape)==1:\n",
    "                if len(y.shape)>1: raise Exception('x and y must either be both 1d or both 2d')\n",
    "                if x.shape[0] != ni+1: raise Exception('x has the wrong length')\n",
    "            if len(y.shape)==1:\n",
    "                if len(x.shape)>1: raise Exception('x and y must either be both 1d or both 2d')\n",
    "                if y.shape[0] != nj+1: raise Exception('y has the wrong length')\n",
    "            if len(x.shape)==2 and len(y.shape)==2:\n",
    "                if x.shape != y.shape: raise Exception('x and y are 2d and must be the same size')\n",
    "                if x.shape != (nj+1,ni+1): raise Exception('x has the wrong size')\n",
    "                self.x = x\n",
    "                self.y = y\n",
    "            else:\n",
    "                self.x, self.y = np.meshgrid(x,y)\n",
    "        else: # Construct coordinates\n",
    "            y1d = np.linspace(-90.,90.,nj+1)\n",
    "            x1d = np.linspace(x0,x0+360.,ni+1)\n",
    "            self.x, self.y = np.meshgrid(x1d,y1d)\n",
    "        if area is not None:\n",
    "            if area.shape != (nj,ni): raise Exception('area has the wrong shape or size')\n",
    "            self.area = area\n",
    "        else:\n",
    "            self.area = None\n",
    "    def __repr__(self):\n",
    "        return '<GMesh ni:%i nj:%i shape:(%i,%i)>'%(self.ni,self.nj,self.shape[0],self.shape[1])\n",
    "    def __getitem__(self, key):\n",
    "        return getattr(self, key)\n",
    "\n",
    "    def dump(self):\n",
    "        print(self)\n",
    "        print('x =',self.x)\n",
    "        print('y =',self.y)\n",
    "        print('area =',self.area)\n",
    "    def refineby2(self):\n",
    "        \"\"\"Returns new Mesh instance with twice the resolution\"\"\"\n",
    "        x = np.zeros( (2*self.nj+1, 2*self.ni+1) )\n",
    "        y = np.zeros( (2*self.nj+1, 2*self.ni+1) )\n",
    "        #area = numpy.zeros( (2*self.nj, 2*self.ni) )\n",
    "        x[::2,::2] = self.x\n",
    "        x[::2,1::2] = 0.5 * ( self.x[:,:-1] + self.x[:,1:] )\n",
    "        x[1::2,::2] = 0.5 * ( self.x[:-1,:] + self.x[1:,:] )\n",
    "        x[1::2,1::2] = 0.25 * ( ( self.x[:-1,:-1] + self.x[1:,1:] ) + ( self.x[:-1,1:] + self.x[1:,:-1] ) )\n",
    "        y[::2,::2] = self.y\n",
    "        y[::2,1::2] = 0.5 * ( self.y[:,:-1] + self.y[:,1:] )\n",
    "        y[1::2,::2] = 0.5 * ( self.y[:-1,:] + self.y[1:,:] )\n",
    "        y[1::2,1::2] = 0.25 * ( ( self.y[:-1,:-1] + self.y[1:,1:] ) + ( self.y[:-1,1:] + self.y[1:,:-1] ) )\n",
    "        return GMesh(x=x, y=y)\n",
    "        \n",
    "    def find_nn_uniform_source(self,xs,ys):\n",
    "        \"\"\"Returns the i&j arrays for the indexes of the nearest neighbor point to each mesh point\"\"\"\n",
    "        #Here we assume that the source mesh {(xs,ys)} is a uniform lat-lon mesh!\n",
    "        #In this case the index of the closest source point can be easily found by arithmetic.          \n",
    "        if (not is_source_uniform(xs,ys)): raise Exception('source grid is not uniform, this method will not work properly')\n",
    "        delxs = xs[0,1] - xs[0,0]\n",
    "        delys = ys[1,0] - ys[0,0]        \n",
    "        nn_i = np.rint((self.x-xs[0,0])/delxs) #Nearest integer (the even one if equidistant)\n",
    "        nn_j = np.rint((self.y-ys[0,0])/delys)    #generate a fake source topography with a ridge in the middle\n",
    "        return nn_i,nn_j\n",
    "    \n",
    "    def source_hits(self, xs, ys):\n",
    "        \"\"\"Returns the number of times each source data point is sampled by this mesh\"\"\"\n",
    "        #This depends on the sampling method\n",
    "        #Here we assume a Nearest Neighbor sampling. \n",
    "        #For each GMesh point (x,y):\n",
    "        #   find the nearest point on the source mesh {(xs,ys)}\n",
    "        #   increment the number of hits for that source point\n",
    "        #\n",
    "        if xs.shape != ys.shape: raise Exception('xs and ys must be the same shape')\n",
    "        nns_i,nns_j = self.find_nn_uniform_source(xs,ys) \n",
    "        hits = np.zeros(xs.shape)\n",
    "#Alistair: Can the following be Vectorized?        \n",
    "        nj,ni = self.x.shape\n",
    "        for i in range(0,ni):\n",
    "            for j in range(0,nj):\n",
    "                nn_ii=int(nns_i[j,i])\n",
    "                nn_jj=int(nns_j[j,i])\n",
    "                hits[nn_jj,nn_ii] += 1 \n",
    "#Niki: Deal with the degenerate cases where source points are well outside the target domain \n",
    "#      and are never going to be hit.\n",
    "        return hits\n",
    "        \n",
    "    def project_source_data_onto_target_mesh(self,xs,ys,zs):\n",
    "        \n",
    "        return height"
   ]
  },
  {
   "cell_type": "code",
   "execution_count": null,
   "metadata": {
    "collapsed": true
   },
   "outputs": [],
   "source": [
    "trg_z = project_source_data_onto_target_mesh(self,src_lon_grid,src_lat_grid,src_z)\n",
    "    "
   ]
  },
  {
   "cell_type": "markdown",
   "metadata": {
    "colab_type": "text",
    "id": "20zTa9dbjSYV"
   },
   "source": [
    "### 3.1.1 Refine the target grid"
   ]
  },
  {
   "cell_type": "code",
   "execution_count": 246,
   "metadata": {},
   "outputs": [
    {
     "name": "stdout",
     "output_type": "stream",
     "text": [
      "Missed some! Must Refine!  1\n",
      "Missed some! Must Refine!  2\n",
      "Missed some! Must Refine!  3\n",
      "Hit all! Done refining after  3  steps!\n"
     ]
    }
   ],
   "source": [
    "def refine_loop(trg_lon_grid,trg_lat_grid, src_lon_grid,src_lat_grid):\n",
    "    \"\"\"This function refines the target grid until all points in the source grid are sampled.\"\"\"\n",
    "    \"\"\"It returns the list of the refined grids.\"\"\"\n",
    "    GMesh_list = []    \n",
    "    GMesh_list.append(GMesh(x=trg_lon_grid,y=trg_lat_grid))\n",
    "    i=0\n",
    "    hits = GMesh_list[i].source_hits(src_lon_grid,src_lat_grid)\n",
    "    while(not np.all(hits)):\n",
    "        print(\"Missed some! Must Refine! \", i+1)\n",
    "        GMesh_list.append(GMesh_list[i].refineby2())\n",
    "        i=i+1\n",
    "        hits = GMesh_list[i].source_hits(src_lon_grid,src_lat_grid)\n",
    "        \n",
    "    print(\"Hit all! Done refining after \",i, \" steps!\")\n",
    "    return GMesh_list \n",
    "\n",
    "refinedGMlist = refine_loop(trg_lon_grid,trg_lat_grid, src_lon_grid,src_lat_grid)\n",
    "#refinedGMlist[-1].dump()"
   ]
  },
  {
   "cell_type": "code",
   "execution_count": 247,
   "metadata": {},
   "outputs": [
    {
     "data": {
      "image/png": "[encoded data removed]",
      "text/plain": [
       "<matplotlib.figure.Figure at 0x2af1b98f1048>"
      ]
     },
     "metadata": {},
     "output_type": "display_data"
    }
   ],
   "source": [
    "plot_mesh_in_latlon(src_lon_grid, src_lat_grid, phi_color='bo', lam_color='bo',alpha=0.4)\n",
    "plot_mesh_in_latlon(refinedGMlist[-1].x,refinedGMlist[-1].y , phi_color='r*', lam_color='r*')"
   ]
  },
  {
   "cell_type": "markdown",
   "metadata": {
    "colab_type": "text",
    "id": "xRXyFxDyjSYh"
   },
   "source": [
    "### Generate test topography"
   ]
  },
  {
   "cell_type": "code",
   "execution_count": 248,
   "metadata": {
    "colab": {
     "base_uri": "https://localhost:8080/",
     "height": 276
    },
    "colab_type": "code",
    "id": "yiHSMGYd6rGf",
    "outputId": "d2fdaf7a-bbed-4da5-ebdd-c06c81b9037b"
   },
   "outputs": [
    {
     "data": {
      "image/png": "[encoded data removed]",
      "text/plain": [
       "<matplotlib.figure.Figure at 0x2af1e418fa58>"
      ]
     },
     "metadata": {},
     "output_type": "display_data"
    }
   ],
   "source": [
    "#generate a fake source topography with a ridge in the middle\n",
    "PI_180=np.pi/180\n",
    "src_depth = -1000 - np.abs(np.sin((src_lon_grid-5) *PI_180) * np.sin((src_lat_grid-1.0) *PI_180))\n",
    "plt.pcolormesh(src_lon_grid,src_lat_grid,src_depth); plt.colorbar();"
   ]
  },
  {
   "cell_type": "markdown",
   "metadata": {
    "colab_type": "text",
    "id": "y39kunWqjSYn"
   },
   "source": [
    "### 3.1.2. Project source data (height) onto to the finest refined grid"
   ]
  },
  {
   "cell_type": "markdown",
   "metadata": {
    "colab_type": "text",
    "id": "Hu7z0eIpTfTZ"
   },
   "source": [
    "## GEBCO  1 minute by 1 minute dataset"
   ]
  },
  {
   "cell_type": "code",
   "execution_count": 0,
   "metadata": {
    "colab": {
     "base_uri": "https://localhost:8080/",
     "height": 445
    },
    "colab_type": "code",
    "id": "nX5V3ZJ7kjc-",
    "outputId": "4b4c6bd3-daea-4a12-c7a7-bdaf41357368",
    "scrolled": true
   },
   "outputs": [
    {
     "data": {
      "text/plain": [
       "<class 'netCDF4._netCDF4.Dataset'>\n",
       "root group (NETCDF3_CLASSIC data model, file format DAP2):\n",
       "    Conventions: CF-1.0\n",
       "    title: The GEBCO_2014 Grid - a continuous terrain model for oceans and land at 30 arc-second intervals.\n",
       "    institution: On behalf of the General Bathymetric Chart of the Oceans (GEBCO), the data are held at the British Oceanographic Data Centre (BODC).\n",
       "    source: The bathymetric portion of the GEBCO_2014 Grid was largely developed from a database of ship track soundings with interpolation between soundings guided by satellite-derived gravity data. In areas where they improve on this existing base grid, data sets developed by other methods are included. Recognising the importance of local expertise when building a global bathymetric model, GEBCO have been working with regional mapping groups to improve the existing GEBCO grid. Details about the development of the grid and the data sets included can be found in the documentation that accompanies the data set. With the exception of polar regions, land data are based on the 1-km averages of topography derived from version 2.0 of the US Geological Survey SRTM30 gridded digital elevation model data product, created with data from the US National Aeronautics and Space Administration (NASA) Shuttle Radar Topography Mission. For the Arctic region north of 64N the GEBCO grid is based on the International Bathymetric Chart of the Arctic Ocean (IBCAO) v3. This data set uses land data taken largely from the Global Multi-resolution Terrain Elevation Data 2010 (GMTED2010) data set. Over Greenland the approximately 2000 by 2000 m resolution Digital Elevation Model (DEM) published by Ekholm (1996) is used. For the Southern Ocean area, south of 60S, land data are taken from Bedmap2 data set as included in the International Bathymetric Chart of the Southern Ocean (IBCSO). The grid is accompanied by a Source Identifier grid, which identifies which grid cells are based on soundings or existing grids and which have been interpolated. The grid uses the convention that depths are negative.\n",
       "    history: This is version 20150318 of the data set. Information on the history of the data set can be found in the data set documentation available from the internet: http://www.gebco.net/data_and_products/gridded_bathymetry_data/\n",
       "    references: Information on the data set is available from the GEBCO project web pages: http://www.gebco.net/data_and_products/gridded_bathymetry_data/\n",
       "    comment: The data in the GEBCO_2014 Grid should not be used for navigation or any purpose relating to safety at sea.\n",
       "    node_offset: 1\n",
       "    History: Translated to CF-1.0 Conventions by Netcdf-Java CDM (NetcdfCFWriter)\n",
       "Original Dataset = /local/webassdata/grid/gebco/GEBCO_2014_2D_301801.nc; Translation Date = Thu Mar 26 09:04:44 GMT 2015\n",
       "    dimensions(sizes): lat(2162), lon(6601)\n",
       "    variables(dimensions): float64 \u001b[4mlat\u001b[0m(lat), float64 \u001b[4mlon\u001b[0m(lon), int16 \u001b[4melevation\u001b[0m(lat,lon)\n",
       "    groups: "
      ]
     },
     "execution_count": 5,
     "metadata": {
      "tags": []
     },
     "output_type": "execute_result"
    }
   ],
   "source": [
    "!pip install netcdf4\n",
    "import netCDF4\n",
    "\n",
    "gebcodata = netCDF4.Dataset('http://thredds.socib.es/thredds/dodsC/ancillary_data/bathymetry/MED_GEBCO_30sec.nc')\n",
    "gebcodata"
   ]
  },
  {
   "cell_type": "markdown",
   "metadata": {},
   "source": [
    "## Sand Box"
   ]
  },
  {
   "cell_type": "markdown",
   "metadata": {
    "colab": {},
    "colab_type": "code",
    "collapsed": true,
    "id": "rqDEeFaeEfOK"
   },
   "source": [
    "### Some more helper functions"
   ]
  },
  {
   "cell_type": "code",
   "execution_count": 231,
   "metadata": {},
   "outputs": [],
   "source": [
    "def get_distance_on_sphere(lon1,lat1,lon2,lat2):\n",
    "#        earth_radius = 1.\n",
    "    (lons1,lats1,lons2,lats2) = np.radians((lon1,lat1,lon2,lat2))\n",
    "    lat_dif = lats1 - lats2\n",
    "    lon_dif = lons1 - lons2\n",
    "    sin_d_lat = np.sin(lat_dif / 2.)\n",
    "    sin_d_lon = np.sin(lon_dif / 2.)\n",
    "    step_1 = (sin_d_lat ** 2) + (sin_d_lon ** 2) * np.cos(lats1) * np.cos(lats2) \n",
    "    arclen = np.arcsin(np.sqrt(step_1))\n",
    "#There was a claim that the above could be vectorized and more accurate by this:\n",
    "#        lats1, lats2 = np.meshgrid(locs_1[:,0], locs_2[:,0]) #vectorize \n",
    "#        lons1, lons2 = np.meshgrid(locs_1[:,1], locs_2[:,1]) #vectorize\n",
    "#        step_1 = (sin_d_lat ** 2) + (sin_d_lon ** 2) * np.cos(lats1[0]) * np.cos(lats2[0])  #vectorize\n",
    "#        arclen = 2 * np.arctan2(np.sqrt(step_1), np.sqrt(1-step_1)) #more accurate\n",
    "    return arclen #* earth_radius\n",
    "\n",
    "#Test the find algorithm\n",
    "def find_nn(x,y,xs,ys):\n",
    "        \"\"\"Returns the i&j arrays for the indexes of the nearest neighbor point to each mesh point\"\"\"\n",
    "        #Here we assume that the source mesh {(xs,ys)} is a uniform lat-lon mesh!\n",
    "        #In this case the index of the closest source point can be easily found by arithmetic.          \n",
    "#Niki:complete this        if (not is_source_uniform): raise Exception('source grid is not uniform, this method will not work properly')\n",
    "        delxs = xs[0,1] - xs[0,0]\n",
    "        delys = ys[1,0] - ys[0,0]       \n",
    "        nn_i = np.rint((x-xs[0,0])/delxs) #Nearest integer (even one if equidistant)\n",
    "        nn_j = np.rint((y-ys[0,0])/delys)\n",
    "        print(delys,y,ys[0,0],y-ys[0,0],(y-ys[0,0])/delys)\n",
    "        return nn_i,nn_j\n",
    "\n",
    "#print(find_nn(3.4,-1.28,src_lon_grid,src_lat_grid))"
   ]
  },
  {
   "cell_type": "code",
   "execution_count": 62,
   "metadata": {},
   "outputs": [],
   "source": [
    "import numpy as np\n",
    "\n",
    "earth_radius = 1.\n",
    "\n",
    "def get_distances(locs_1, locs_2):\n",
    "    lats1, lats2 = np.meshgrid(locs_1[:,0], locs_2[:,0])\n",
    "    lons1, lons2 = np.meshgrid(locs_1[:,1], locs_2[:,1])\n",
    "\n",
    "    lat_dif = np.radians(lats1 - lats2)\n",
    "    long_dif = np.radians(lons1 - lons2)\n",
    "\n",
    "    sin_d_lat = np.sin(lat_dif / 2.)\n",
    "    sin_d_long = np.sin(long_dif / 2.)\n",
    "\n",
    "    step_1 = (sin_d_lat ** 2) + (sin_d_long ** 2) * np.cos(np.radians(lats1[0])) * np.cos(np.radians(lats2[0])) \n",
    "    step_2 = 2 * np.arctan2(np.sqrt(step_1), np.sqrt(1-step_1))\n",
    "\n",
    "    dist = step_2 * earth_radius\n",
    "\n",
    "    return dist\n",
    "\n",
    "#locations_1 = np.random.rand(1000,2)\n",
    "#locations_2 = np.random.rand(1000,2)\n",
    "#%timeit get_distances(locations_1,locations_2)\n"
   ]
  },
  {
   "cell_type": "code",
   "execution_count": 67,
   "metadata": {},
   "outputs": [
    {
     "name": "stdout",
     "output_type": "stream",
     "text": [
      "[[60 90]]\n",
      "[[61 92]]\n",
      "[[ 0.02449434]]\n"
     ]
    }
   ],
   "source": [
    "p1=np.array([[60,90]])\n",
    "p2=np.array([[61,92]])\n",
    "\n",
    "print(get_distances(p1,p2))"
   ]
  },
  {
   "cell_type": "markdown",
   "metadata": {
    "colab_type": "text",
    "id": "Hu7z0eIpTfTZ"
   },
   "source": [
    "### scipy interpolation method\n",
    "\n",
    "We can intepolate using scipy.interpolate.interp2d. But note that this assumes a uniform lat-lon mesh (i.e., src_lon_grid and src_lat_grid are reducible to 1D arrays src_lon_grid[0,:] and src_lat_grid[:,0] ).  **But that's not going to work  when target grid is tripolar, is it?**"
   ]
  },
  {
   "cell_type": "code",
   "execution_count": 241,
   "metadata": {
    "colab": {
     "base_uri": "https://localhost:8080/",
     "height": 276
    },
    "colab_type": "code",
    "id": "PptMOsIU-ZTQ",
    "outputId": "0b0aee02-a2dd-4460-b93c-da644f1668ef",
    "scrolled": true
   },
   "outputs": [
    {
     "data": {
      "image/png": "[encoded data removed]",
      "text/plain": [
       "<matplotlib.figure.Figure at 0x2af1e8991a90>"
      ]
     },
     "metadata": {},
     "output_type": "display_data"
    }
   ],
   "source": [
    "#interpolate the source topog to the refined grid\n",
    "#using scipy\n",
    "from scipy import interpolate\n",
    "f_interp = interpolate.interp2d(src_lon_grid[0,:],src_lat_grid[:,0],src_depth,kind='linear')\n",
    "refinedDepth_scipy = f_interp(refinedGMlist[-1].x[0,:],refinedGMlist[-1].y[:,0])\n",
    "plt.pcolormesh(refinedGMlist[-1].x,refinedGMlist[-1].y, refinedDepth_scipy); plt.colorbar();"
   ]
  },
  {
   "cell_type": "code",
   "execution_count": 0,
   "metadata": {
    "colab": {},
    "colab_type": "code",
    "collapsed": true,
    "id": "5KdcFih5TfTa",
    "outputId": "47a5e23b-8c9d-49a4-cd04-6143aa8c6203"
   },
   "outputs": [],
   "source": [
    "import netCDF4\n",
    "\n",
    "gebcodata = netCDF4.Dataset('/home/niki/gfdlprojects/thin-wall-topography/work/GRIDONE_2D.nc')\n",
    "#for var in gebcodata.variables :  print(var,end=' ')\n",
    "#Note that the variables are arrays but they are not numpy arrays. \n",
    "#Convert them to numpy using np.array so that they can be reshaped.\n",
    "gebco_lon = np.array(gebcodata.variables['lon'])\n",
    "gebco_lat = np.array(gebcodata.variables['lat'])\n",
    "gebco_elv = np.array(gebcodata.variables['elevation'])\n",
    "\n",
    "gebco_lon_grd = np.tile(gebco_lon,(10801,1))\n",
    "gebco_lat_grd = np.tile(gebco_lat.reshape(10801,1),(1,21601))\n",
    "print('source grid array shapes: ' , gebco_lon_grd.shape,gebco_lat_grd.shape,gebco_elv.shape)\n",
    "print('source grid nominal resolution : ',gebco_lon[10801]-gebco_lon[10800],gebco_lat[5401]-gebco_lat[5400] )"
   ]
  },
  {
   "cell_type": "code",
   "execution_count": 0,
   "metadata": {
    "colab": {},
    "colab_type": "code",
    "collapsed": true,
    "id": "sPCXIbYFTfTi",
    "outputId": "1ce5f642-590b-41e0-fdf0-8b9298e6e7fb"
   },
   "outputs": [],
   "source": [
    "#Data arrays are too large to plot and my machine runs out of memory\n",
    "plt.pcolormesh(gebco_lon_grd[::100,::100], gebco_lat_grd[::100,::100],gebco_elv[::100,::100]);plt.colorbar()"
   ]
  },
  {
   "cell_type": "code",
   "execution_count": 0,
   "metadata": {
    "colab": {},
    "colab_type": "code",
    "collapsed": true,
    "id": "ssUbXUWFTfTm",
    "outputId": "b6c4092d-751e-4a78-8731-4b25c852d160"
   },
   "outputs": [],
   "source": [
    "#Data arrays are too large to plot and my machine runs out of memory\n",
    "plt.figure(figsize=(10,10))\n",
    "plot_mesh_in_latlon(gebco_lon_grd[::1000,::1000], gebco_lat_grd[::1000,::1000], phi_color='bo', lam_color='bo')"
   ]
  },
  {
   "cell_type": "code",
   "execution_count": 0,
   "metadata": {
    "colab": {},
    "colab_type": "code",
    "collapsed": true,
    "id": "r_iXYeN9TfTr",
    "outputId": "4de34ecb-a28c-4e5b-a1df-96efb0cd2d2a",
    "scrolled": true
   },
   "outputs": [],
   "source": [
    "#It is not clear what .zoom does, but is not doing what we want!\n",
    "import scipy.ndimage\n",
    "lonz = scipy.ndimage.zoom(trg_lon_grid,2,order=1)\n",
    "#latz = scipy.ndimage.zoom(trg_lat_grid,2,order=1)\n",
    "print (trg_lon_grid)\n",
    "print (lonz)"
   ]
  },
  {
   "cell_type": "code",
   "execution_count": 38,
   "metadata": {
    "colab": {},
    "colab_type": "code",
    "id": "LNnjKcYUTfTv"
   },
   "outputs": [
    {
     "ename": "ModuleNotFoundError",
     "evalue": "No module named 'geopy'",
     "output_type": "error",
     "traceback": [
      "\u001b[0;31m---------------------------------------------------------------------------\u001b[0m",
      "\u001b[0;31mModuleNotFoundError\u001b[0m                       Traceback (most recent call last)",
      "\u001b[0;32m<ipython-input-38-a68305f31241>\u001b[0m in \u001b[0;36m<module>\u001b[0;34m()\u001b[0m\n\u001b[1;32m      1\u001b[0m \u001b[0;32mfrom\u001b[0m \u001b[0mscipy\u001b[0m\u001b[0;34m.\u001b[0m\u001b[0mspatial\u001b[0m\u001b[0;34m.\u001b[0m\u001b[0mdistance\u001b[0m \u001b[0;32mimport\u001b[0m \u001b[0mpdist\u001b[0m\u001b[0;34m\u001b[0m\u001b[0m\n\u001b[0;32m----> 2\u001b[0;31m \u001b[0;32mfrom\u001b[0m \u001b[0mgeopy\u001b[0m\u001b[0;34m.\u001b[0m\u001b[0mdistance\u001b[0m \u001b[0;32mimport\u001b[0m \u001b[0mvincenty\u001b[0m\u001b[0;34m\u001b[0m\u001b[0m\n\u001b[0m\u001b[1;32m      3\u001b[0m \u001b[0;32mimport\u001b[0m \u001b[0mnumpy\u001b[0m \u001b[0;32mas\u001b[0m \u001b[0mnp\u001b[0m\u001b[0;34m\u001b[0m\u001b[0m\n\u001b[1;32m      4\u001b[0m \u001b[0;34m\u001b[0m\u001b[0m\n\u001b[1;32m      5\u001b[0m coordinates = np.array([[19.41133431, -99.17822823],\n",
      "\u001b[0;31mModuleNotFoundError\u001b[0m: No module named 'geopy'"
     ]
    }
   ],
   "source": [
    "from scipy.spatial.distance import pdist\n",
    "from geopy.distance import vincenty\n",
    "import numpy as np\n",
    "\n",
    "coordinates = np.array([[19.41133431, -99.17822823],\n",
    "                        [19.434514  , -99.180934],\n",
    "                        [19.380412  , -99.178789]])\n",
    "\n",
    "# Using the vincenty distance function.\n",
    "\n",
    "m_dist = pdist(coordinates, # Coordinates matrix or tuples list\n",
    "               # Vicenty distance in lambda function\n",
    "               lambda u, v: vincenty(u, v).kilometers)\n"
   ]
  },
  {
   "cell_type": "code",
   "execution_count": 46,
   "metadata": {},
   "outputs": [
    {
     "name": "stderr",
     "output_type": "stream",
     "text": [
      "/net2/nnz/opt/anaconda3/envs/py3/lib/python3.6/site-packages/ipykernel_launcher.py:30: RuntimeWarning: invalid value encountered in arccos\n"
     ]
    },
    {
     "name": "stdout",
     "output_type": "stream",
     "text": [
      "138 ms ± 379 µs per loop (mean ± std. dev. of 7 runs, 10 loops each)\n"
     ]
    }
   ],
   "source": [
    "import numpy as np\n",
    "\n",
    "def distance_on_sphere_numpy(coordinate_array):\n",
    "    \"\"\"\n",
    "    Compute a distance matrix of the coordinates using a spherical metric.\n",
    "    :param coordinate_array: numpy.ndarray with shape (n,2); latitude is in 1st col, longitude in 2nd.\n",
    "    :returns distance_mat: numpy.ndarray with shape (n, n) containing distance in km between coords.\n",
    "    \"\"\"\n",
    "    # Radius of the earth in km (GRS 80-Ellipsoid)\n",
    "    EARTH_RADIUS = 6371.007176 \n",
    "\n",
    "    # Unpacking coordinates\n",
    "    latitudes = coordinate_array[:, 0]\n",
    "    longitudes = coordinate_array[:, 1]\n",
    "\n",
    "    # Convert latitude and longitude to spherical coordinates in radians.\n",
    "    degrees_to_radians = np.pi/180.0\n",
    "    phi_values = (90.0 - latitudes)*degrees_to_radians\n",
    "    theta_values = longitudes*degrees_to_radians\n",
    "\n",
    "    # Expand phi_values and theta_values into grids\n",
    "    theta_1, theta_2 = np.meshgrid(theta_values, theta_values)\n",
    "    theta_diff_mat = theta_1 - theta_2\n",
    "\n",
    "    phi_1, phi_2 = np.meshgrid(phi_values, phi_values)\n",
    "\n",
    "    # Compute spherical distance from spherical coordinates\n",
    "    angle = (np.sin(phi_1) * np.sin(phi_2) * np.cos(theta_diff_mat) + \n",
    "           np.cos(phi_1) * np.cos(phi_2))\n",
    "    arc = np.arccos(angle)\n",
    "\n",
    "    # Multiply by earth's radius to obtain distance in km\n",
    "    return arc * EARTH_RADIUS\n",
    "\n",
    "locations_1 = np.random.rand(1000,2)\n",
    "%timeit distance_on_sphere_numpy(locations_1)\n"
   ]
  },
  {
   "cell_type": "code",
   "execution_count": 43,
   "metadata": {},
   "outputs": [
    {
     "name": "stdout",
     "output_type": "stream",
     "text": [
      "[[ 0.21440874  0.75370646]\n",
      " [ 0.82356588  0.59119795]\n",
      " [ 0.51832414  0.67911904]\n",
      " [ 0.18946566  0.86868196]\n",
      " [ 0.54700145  0.93058524]]\n"
     ]
    }
   ],
   "source": [
    "locations_1 = np.random.rand(5,2)\n",
    "print(locations_1)"
   ]
  },
  {
   "cell_type": "code",
   "execution_count": 45,
   "metadata": {},
   "outputs": [
    {
     "name": "stdout",
     "output_type": "stream",
     "text": [
      "[ 0.75370646  0.59119795  0.67911904  0.86868196  0.93058524]\n"
     ]
    }
   ],
   "source": [
    "print(locations_1[:, 1])"
   ]
  },
  {
   "cell_type": "code",
   "execution_count": null,
   "metadata": {
    "collapsed": true
   },
   "outputs": [],
   "source": []
  }
 ],
 "metadata": {
  "colab": {
   "include_colab_link": true,
   "name": "algorithm_dev.ipynb",
   "provenance": [],
   "toc_visible": true,
   "version": "0.3.2"
  },
  "kernelspec": {
   "display_name": "Python 3",
   "language": "python",
   "name": "python3"
  },
  "language_info": {
   "codemirror_mode": {
    "name": "ipython",
    "version": 3
   },
   "file_extension": ".py",
   "mimetype": "text/x-python",
   "name": "python",
   "nbconvert_exporter": "python",
   "pygments_lexer": "ipython3",
   "version": "3.6.1"
  }
 },
 "nbformat": 4,
 "nbformat_minor": 1
}
