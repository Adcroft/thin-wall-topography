{
  "nbformat": 4,
  "nbformat_minor": 0,
  "metadata": {
    "colab": {
      "name": "algorithm_dev.ipynb",
      "version": "0.3.2",
      "provenance": [],
      "toc_visible": true,
      "include_colab_link": true
    },
    "kernelspec": {
      "display_name": "Python 3",
      "language": "python",
      "name": "python3"
    }
  },
  "cells": [
    {
      "cell_type": "markdown",
      "metadata": {
        "id": "view-in-github",
        "colab_type": "text"
      },
      "source": [
        "<a href=\"https://colab.research.google.com/github/adcroft/thin-wall-topography/blob/python/python/algorithm_dev.ipynb\" target=\"_parent\"><img src=\"https://colab.research.google.com/assets/colab-badge.svg\" alt=\"Open In Colab\"/></a>"
      ]
    },
    {
      "metadata": {
        "colab_type": "text",
        "id": "FzPFwAc4aE5Q"
      },
      "cell_type": "markdown",
      "source": [
        "## This notebook is for developement and testing of algorithm for the thin wall topography"
      ]
    },
    {
      "metadata": {
        "colab_type": "text",
        "id": "B-VxoaXWamLv"
      },
      "cell_type": "markdown",
      "source": [
        "Some helper functions"
      ]
    },
    {
      "metadata": {
        "colab_type": "code",
        "id": "ZCOcCD-iTfTF",
        "colab": {}
      },
      "cell_type": "code",
      "source": [
        "import numpy as np\n",
        "import matplotlib.pyplot as plt\n",
        "%matplotlib inline\n",
        "\n",
        "#Helper functions\n",
        "\n",
        "def plot_mesh_in_latlon(lam, phi, stride=1, phi_color='k', lam_color='r',alpha=1.0):\n",
        "    #mesh plot\n",
        "    if (phi.shape != lam.shape): raise Exception('Ooops: lam and phi should have same shape')\n",
        "    nj,ni = lam.shape\n",
        "    for i in range(0,ni,stride):\n",
        "        plt.plot(lam[:,i],phi[:,i],lam_color, alpha=alpha)\n",
        "    for j in range(0,nj,stride):\n",
        "        plt.plot(lam[j,:],phi[j,:],phi_color, alpha=alpha)\n",
        "    \n",
        "\n",
        "def plot_mesh_in_xyz(lam, phi, stride=1, phi_color='k', lam_color='r'):\n",
        "    #mesh plot\n",
        "    x = np.cos(phi*PI_180) * np.cos(lam*PI_180)\n",
        "    y = np.cos(phi*PI_180) * np.sin(lam*PI_180)\n",
        "    z = np.sin(phi*PI_180)\n",
        "    plot_mesh_in_latlon(x, y, stride=stride, phi_color=phi_color, lam_color=lam_color)\n",
        "\n",
        "def generate_rect_test_grid(lon0,lonlen,ni,lat0,latlen,nj):\n",
        "    #generate a simple rectilinear grid\n",
        "    lon = lon0 + np.arange(ni+1) * lonlen/ni\n",
        "    lat = lat0 + np.arange(nj+1) * latlen/nj\n",
        "    lon_grid = np.tile(lon, (nj+1,1)) \n",
        "    lat_grid = np.tile(lat.reshape(nj+1,1), (1,ni+1))\n",
        "    return lon_grid,lat_grid\n",
        "\n",
        "#simple refining function. might be too slow\n",
        "def refineby2(x2d):\n",
        "    x_rf2 = np.zeros([x2d.shape[0]*2-1 , x2d.shape[1]*2-1])\n",
        "    for j,l in enumerate(x2d):\n",
        "        for i,aji in enumerate(l):\n",
        "            x_rf2[2*j,2*i] = x2d[j,i]\n",
        "            if(j<x2d.shape[0]-1):\n",
        "                x_rf2[2*j+1,2*i] = (x2d[j,i]+x2d[j+1,i])/2\n",
        "            if(i<x2d.shape[1]-1):   \n",
        "                x_rf2[2*j,2*i+1] = (x2d[j,i]+x2d[j,i+1])/2\n",
        "            if(j<x2d.shape[0]-1 and i<x2d.shape[1]-1):    \n",
        "                x_rf2[2*j+1,2*i+2] = (x2d[j,i+1]+x2d[j+1,i+1])/2\n",
        "                x_rf2[2*j+2,2*i+1] = (x2d[j+1,i]+x2d[j+1,i+1])/2\n",
        "                x_rf2[2*j+1,2*i+1] = (x2d[j,i]+x2d[j,i+1]+x2d[j+1,i]+x2d[j+1,i+1])/4\n",
        "    return x_rf2\n",
        "\n",
        "def refineby2_cubic(x2d, debug=False):\n",
        "    \"\"\"\n",
        "    Refines by cubic-interpolation (in index space)\n",
        "    \"\"\"\n",
        "    if debug: print('x2d.shape =',x2d.shape)\n",
        "    njp1,nip1 = x2d.shape # number of source nodes\n",
        "    x_rf2 = np.zeros((2*njp1-1, 2*nip1-1))\n",
        "    if debug: print('x_rf2.shape =',x_rf2.shape)\n",
        "    \n",
        "    # Fill in know values\n",
        "    if debug: print('x_rf2[::2,::2].shape =',x_rf2[::2,::2].shape)\n",
        "    x_rf2[::2,::2] = x2d[:,:]\n",
        "    \n",
        "    def cubic_fill_i(f, debug=False):\n",
        "        if debug: print('f.shape =',f.shape)\n",
        "        mid_val = ( f[:,2::2] + f[:,:-2:2] )/2\n",
        "        if debug: print('mid_val.shape =',mid_val.shape)\n",
        "        del2 = ( f[:,4::2] + f[:,:-4:2] ) - 2*f[:,2:-2:2]\n",
        "        if debug: print('del2.shape =',del2.shape)\n",
        "        if debug: print('f[:,3:-3:2].shape =',f[:,3:-3:2].shape)\n",
        "        f[:,3:-3:2] = mid_val[:,1:-1] - ( del2[:,1:] - del2[:,:-1] )/8\n",
        "        # Use mid-point on boundaries where cubic does not work\n",
        "        f[:,1] = mid_val[:,0]\n",
        "        f[:,-2] = mid_val[:,-1]\n",
        "        return f\n",
        "        \n",
        "    # Cubic-interp in i-direction\n",
        "    x_rf2[::2,:] = cubic_fill_i(x_rf2[::2,:], debug=debug)\n",
        "    \n",
        "    # Cubic-interp in j-direction (this also fills the centers)\n",
        "    x_rf2 = cubic_fill_i(x_rf2.T, debug=debug).T\n",
        "    \n",
        "    # Alternative value for centers\n",
        "    avc = cubic_fill_i(x_rf2[1::2,:], debug=debug)\n",
        "    # Average two approaches for mid-point (for symmetry)\n",
        "    x_rf2[1::2,1::2] = ( x_rf2[1::2,1::2] + avc[:,1::2] )/2\n",
        "    \n",
        "    return x_rf2"
      ],
      "execution_count": 0,
      "outputs": []
    },
    {
      "metadata": {
        "colab_type": "text",
        "id": "qIoiwPqlaq8-"
      },
      "cell_type": "markdown",
      "source": [
        "## Developing a refining algorithm"
      ]
    },
    {
      "metadata": {
        "colab_type": "text",
        "id": "tdRzWKGqa4Ng"
      },
      "cell_type": "markdown",
      "source": [
        "Actual source data like GEBCO (further below) are too large for devloping/tesing. Here we use simple small recitilinear grids to start with."
      ]
    },
    {
      "metadata": {
        "colab_type": "code",
        "id": "11dB9aoWTfTK",
        "outputId": "c88eef0e-8b9c-4b51-854b-dcfbc0e2444f",
        "scrolled": false,
        "colab": {
          "base_uri": "https://localhost:8080/",
          "height": 265
        }
      },
      "cell_type": "code",
      "source": [
        "#Let's start with some small rectilinear grids for testing\n",
        "#source grid \n",
        "src_lon_grid,src_lat_grid = generate_rect_test_grid(2,6,6,-2,4.5,10)\n",
        "#print(src_lon_grid.shape,src_lat_grid.shape)\n",
        "#target grid\n",
        "trg_lon_grid,trg_lat_grid = generate_rect_test_grid(3.5,4,2,-1.5,3.5,2)\n",
        "#print(trg_lon_grid.shape,trg_lat_grid.shape)\n",
        "#plt.figure(figsize=(10,10))\n",
        "plot_mesh_in_latlon(src_lon_grid, src_lat_grid, phi_color='bo', lam_color='bo',alpha=0.4)\n",
        "plot_mesh_in_latlon(trg_lon_grid, trg_lat_grid, phi_color='r*', lam_color='r*')"
      ],
      "execution_count": 0,
      "outputs": [
        {
          "output_type": "display_data",
          "data": {
            "image/png": "[encoded data removed]",
            "text/plain": [
              "<Figure size 432x288 with 1 Axes>"
            ]
          },
          "metadata": {
            "tags": [],
            "needs_background": "light"
          }
        }
      ]
    },
    {
      "metadata": {
        "colab_type": "code",
        "id": "Z0Ng-zeVTfTR",
        "outputId": "574ec32e-a7ce-4753-a6ff-b9ae2439e3d9",
        "colab": {
          "base_uri": "https://localhost:8080/",
          "height": 265
        }
      },
      "cell_type": "code",
      "source": [
        "#refine once\n",
        "lon_rf2=refineby2_cubic(trg_lon_grid)\n",
        "lat_rf2=refineby2_cubic(trg_lat_grid)\n",
        "#plt.figure(figsize=(10,10))\n",
        "plot_mesh_in_latlon(src_lon_grid, src_lat_grid, phi_color='bo', lam_color='bo',alpha=0.4)\n",
        "plot_mesh_in_latlon(lon_rf2, lat_rf2, phi_color='r*', lam_color='r*')"
      ],
      "execution_count": 0,
      "outputs": [
        {
          "output_type": "display_data",
          "data": {
            "image/png": "[encoded data removed]",
            "text/plain": [
              "<Figure size 432x288 with 1 Axes>"
            ]
          },
          "metadata": {
            "tags": [],
            "needs_background": "light"
          }
        }
      ]
    },
    {
      "metadata": {
        "colab_type": "code",
        "id": "FJVBv4T1TfTV",
        "outputId": "656e050c-3a2d-44ef-8674-2efdbb16cfae",
        "colab": {
          "base_uri": "https://localhost:8080/",
          "height": 265
        }
      },
      "cell_type": "code",
      "source": [
        "#refine twice\n",
        "lon_rf4=refineby2(lon_rf2)\n",
        "lat_rf4=refineby2(lat_rf2)\n",
        "#plt.figure(figsize=(10,10))\n",
        "plot_mesh_in_latlon(src_lon_grid, src_lat_grid, phi_color='bo', lam_color='bo',alpha=0.4)\n",
        "plot_mesh_in_latlon(lon_rf4, lat_rf4, phi_color='r*', lam_color='r*')\n"
      ],
      "execution_count": 0,
      "outputs": [
        {
          "output_type": "display_data",
          "data": {
            "image/png": "[encoded data removed]",
            "text/plain": [
              "<Figure size 432x288 with 1 Axes>"
            ]
          },
          "metadata": {
            "tags": [],
            "needs_background": "light"
          }
        }
      ]
    },
    {
      "metadata": {
        "colab_type": "text",
        "id": "REsQBot8lrRR"
      },
      "cell_type": "markdown",
      "source": [
        "The above example shows that after two refining steps (by factors of 2) each refined cell is \"smaller\" than its 6 neigboring source grid cells. How do we diagnose this in general? \n",
        "\n",
        "Is a refined cell always surronded by 6 source cells (for any given grids)? \n",
        "\n",
        "Also note that in this example there are many refined grid points that are equidistant from two distinct source points which in general have different depth values. Do we average the two values in such cases? "
      ]
    },
    {
      "metadata": {
        "colab_type": "code",
        "id": "nX5V3ZJ7kjc-",
        "outputId": "4b4c6bd3-daea-4a12-c7a7-bdaf41357368",
        "colab": {
          "base_uri": "https://localhost:8080/",
          "height": 445
        }
      },
      "cell_type": "code",
      "source": [
        "!pip install netcdf4\n",
        "import netCDF4\n",
        "\n",
        "gebcodata = netCDF4.Dataset('http://thredds.socib.es/thredds/dodsC/ancillary_data/bathymetry/MED_GEBCO_30sec.nc')\n",
        "gebcodata"
      ],
      "execution_count": 0,
      "outputs": [
        {
          "output_type": "execute_result",
          "data": {
            "text/plain": [
              "<class 'netCDF4._netCDF4.Dataset'>\n",
              "root group (NETCDF3_CLASSIC data model, file format DAP2):\n",
              "    Conventions: CF-1.0\n",
              "    title: The GEBCO_2014 Grid - a continuous terrain model for oceans and land at 30 arc-second intervals.\n",
              "    institution: On behalf of the General Bathymetric Chart of the Oceans (GEBCO), the data are held at the British Oceanographic Data Centre (BODC).\n",
              "    source: The bathymetric portion of the GEBCO_2014 Grid was largely developed from a database of ship track soundings with interpolation between soundings guided by satellite-derived gravity data. In areas where they improve on this existing base grid, data sets developed by other methods are included. Recognising the importance of local expertise when building a global bathymetric model, GEBCO have been working with regional mapping groups to improve the existing GEBCO grid. Details about the development of the grid and the data sets included can be found in the documentation that accompanies the data set. With the exception of polar regions, land data are based on the 1-km averages of topography derived from version 2.0 of the US Geological Survey SRTM30 gridded digital elevation model data product, created with data from the US National Aeronautics and Space Administration (NASA) Shuttle Radar Topography Mission. For the Arctic region north of 64N the GEBCO grid is based on the International Bathymetric Chart of the Arctic Ocean (IBCAO) v3. This data set uses land data taken largely from the Global Multi-resolution Terrain Elevation Data 2010 (GMTED2010) data set. Over Greenland the approximately 2000 by 2000 m resolution Digital Elevation Model (DEM) published by Ekholm (1996) is used. For the Southern Ocean area, south of 60S, land data are taken from Bedmap2 data set as included in the International Bathymetric Chart of the Southern Ocean (IBCSO). The grid is accompanied by a Source Identifier grid, which identifies which grid cells are based on soundings or existing grids and which have been interpolated. The grid uses the convention that depths are negative.\n",
              "    history: This is version 20150318 of the data set. Information on the history of the data set can be found in the data set documentation available from the internet: http://www.gebco.net/data_and_products/gridded_bathymetry_data/\n",
              "    references: Information on the data set is available from the GEBCO project web pages: http://www.gebco.net/data_and_products/gridded_bathymetry_data/\n",
              "    comment: The data in the GEBCO_2014 Grid should not be used for navigation or any purpose relating to safety at sea.\n",
              "    node_offset: 1\n",
              "    History: Translated to CF-1.0 Conventions by Netcdf-Java CDM (NetcdfCFWriter)\n",
              "Original Dataset = /local/webassdata/grid/gebco/GEBCO_2014_2D_301801.nc; Translation Date = Thu Mar 26 09:04:44 GMT 2015\n",
              "    dimensions(sizes): lat(2162), lon(6601)\n",
              "    variables(dimensions): float64 \u001b[4mlat\u001b[0m(lat), float64 \u001b[4mlon\u001b[0m(lon), int16 \u001b[4melevation\u001b[0m(lat,lon)\n",
              "    groups: "
            ]
          },
          "metadata": {
            "tags": []
          },
          "execution_count": 5
        }
      ]
    },
    {
      "metadata": {
        "colab_type": "text",
        "id": "Hu7z0eIpTfTZ"
      },
      "cell_type": "markdown",
      "source": [
        "## GEBCO  1 minute by 1 minute dataset"
      ]
    },
    {
      "metadata": {
        "colab_type": "code",
        "id": "5KdcFih5TfTa",
        "colab": {}
      },
      "cell_type": "code",
      "source": [
        "import netCDF4\n",
        "\n",
        "gebcodata = netCDF4.Dataset('/home/niki/gfdlprojects/thin-wall-topography/work/GRIDONE_2D.nc')\n",
        "#for var in gebcodata.variables :  print(var,end=' ')\n",
        "#Note that the variables are arrays but they are not numpy arrays. \n",
        "#Convert them to numpy using np.array so that they can be reshaped.\n",
        "gebco_lon = np.array(gebcodata.variables['lon'])\n",
        "gebco_lat = np.array(gebcodata.variables['lat'])\n",
        "gebco_elv = np.array(gebcodata.variables['elevation'])\n",
        "\n",
        "gebco_lon_grd = np.tile(gebco_lon,(10801,1))\n",
        "gebco_lat_grd = np.tile(gebco_lat.reshape(10801,1),(1,21601))\n",
        "print('source grid array shapes: ' , gebco_lon_grd.shape,gebco_lat_grd.shape,gebco_elv.shape)\n",
        "print('source grid nominal resolution : ',gebco_lon[10801]-gebco_lon[10800],gebco_lat[5401]-gebco_lat[5400] )"
      ],
      "execution_count": 0,
      "outputs": []
    },
    {
      "metadata": {
        "colab_type": "code",
        "id": "vJuM4DT_TfTe",
        "colab": {}
      },
      "cell_type": "code",
      "source": [
        "0.0166666666667 * 60"
      ],
      "execution_count": 0,
      "outputs": []
    },
    {
      "metadata": {
        "colab_type": "code",
        "id": "sPCXIbYFTfTi",
        "colab": {}
      },
      "cell_type": "code",
      "source": [
        "#Data arrays are too large to plot and my machine runs out of memory\n",
        "plt.pcolormesh(gebco_lon_grd[::100,::100], gebco_lat_grd[::100,::100],gebco_elv[::100,::100]);plt.colorbar()"
      ],
      "execution_count": 0,
      "outputs": []
    },
    {
      "metadata": {
        "colab_type": "code",
        "id": "ssUbXUWFTfTm",
        "colab": {}
      },
      "cell_type": "code",
      "source": [
        "#Data arrays are too large to plot and my machine runs out of memory\n",
        "plt.figure(figsize=(10,10))\n",
        "plot_mesh_in_latlon(gebco_lon_grd[::1000,::1000], gebco_lat_grd[::1000,::1000], phi_color='bo', lam_color='bo')"
      ],
      "execution_count": 0,
      "outputs": []
    },
    {
      "metadata": {
        "colab_type": "code",
        "id": "r_iXYeN9TfTr",
        "scrolled": true,
        "colab": {}
      },
      "cell_type": "code",
      "source": [
        "#It is not clear what .zoom does, but is not doing what we want!\n",
        "import scipy.ndimage\n",
        "lonz = scipy.ndimage.zoom(trg_lon_grid,2,order=1)\n",
        "#latz = scipy.ndimage.zoom(trg_lat_grid,2,order=1)\n",
        "print (trg_lon_grid)\n",
        "print (lonz)"
      ],
      "execution_count": 0,
      "outputs": []
    },
    {
      "metadata": {
        "colab_type": "code",
        "id": "LNnjKcYUTfTv",
        "colab": {}
      },
      "cell_type": "code",
      "source": [
        ""
      ],
      "execution_count": 0,
      "outputs": []
    }
  ]
}