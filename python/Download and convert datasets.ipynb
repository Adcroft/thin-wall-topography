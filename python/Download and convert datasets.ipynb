{
 "cells": [
  {
   "cell_type": "markdown",
   "metadata": {},
   "source": [
    "*Developed using conda python 3.4 environment with netCDF4 package installed*"
   ]
  },
  {
   "cell_type": "code",
   "execution_count": 1,
   "metadata": {
    "collapsed": false
   },
   "outputs": [],
   "source": [
    "import urllib.request\n",
    "import os.path\n",
    "import scipy.io\n",
    "import numpy\n",
    "import struct\n",
    "import netCDF4\n",
    "import matplotlib.pyplot as plt\n",
    "%matplotlib inline"
   ]
  },
  {
   "cell_type": "code",
   "execution_count": 2,
   "metadata": {
    "collapsed": true
   },
   "outputs": [],
   "source": [
    "def fetch_file_from_web(url, filename=None):\n",
    "    \"\"\"Download file from url and optionally names it as filename\"\"\"\n",
    "    if filename is None: local_file = os.path.split(url)[-1]\n",
    "    else: local_file = filename\n",
    "    if not os.path.isfile(local_file):\n",
    "        urllib.request.urlretrieve(url, local_file)"
   ]
  },
  {
   "cell_type": "code",
   "execution_count": 3,
   "metadata": {
    "collapsed": false
   },
   "outputs": [],
   "source": [
    "fetch_file_from_web('https://www.ngdc.noaa.gov/mgg/global/relief/ETOPO5/TOPO/ETOPO5/ETOPO5.DAT')"
   ]
  },
  {
   "cell_type": "code",
   "execution_count": 4,
   "metadata": {
    "collapsed": false
   },
   "outputs": [
    {
     "name": "stdout",
     "output_type": "stream",
     "text": [
      "2160/2160"
     ]
    }
   ],
   "source": [
    "def convert_ETOPO5_to_netcdf(etopo5_file='ETOPO5.DAT', netcdf_file='ETOPO5.nc'):\n",
    "    \"\"\"Converts the original ETOPO5.DAT file to a netcdf file.\n",
    "    Will download ETOPO5.DAT if it is not present.\"\"\"\n",
    "    if not os.path.isfile(etopo5_file):\n",
    "        fetch_file_from_web('https://www.ngdc.noaa.gov/mgg/global/relief/ETOPO5/TOPO/ETOPO5/ETOPO5.DAT', etopo5_file)\n",
    "    nj,ni = 2160,4320\n",
    "    H = numpy.zeros((nj,ni))\n",
    "    with open('ETOPO5.DAT','rb') as fid:\n",
    "        for j in range(nj):\n",
    "            print('\\r%i/%i'%(j+1,nj),end='')\n",
    "            for i in range(ni):\n",
    "                b = fid.read(2)\n",
    "                H[j,i] = struct.unpack('>h',b)[0]\n",
    "    H = H[::-1,:]\n",
    "    x = (0.5 + numpy.arange(ni)) * (360. / ni)\n",
    "    y = (0.5 + numpy.arange(nj)) * (180. / nj) - 90.\n",
    "    return x,y,H\n",
    "x,y,H = convert_ETOPO5_to_netcdf()"
   ]
  }
 ],
 "metadata": {
  "kernelspec": {
   "display_name": "Python 3",
   "language": "python",
   "name": "python3"
  },
  "language_info": {
   "codemirror_mode": {
    "name": "ipython",
    "version": 3
   },
   "file_extension": ".py",
   "mimetype": "text/x-python",
   "name": "python",
   "nbconvert_exporter": "python",
   "pygments_lexer": "ipython3",
   "version": "3.4.3"
  }
 },
 "nbformat": 4,
 "nbformat_minor": 0
}
